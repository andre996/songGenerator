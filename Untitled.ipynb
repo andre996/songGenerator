{
 "cells": [
  {
   "cell_type": "code",
   "execution_count": 3,
   "metadata": {},
   "outputs": [],
   "source": [
    "import spacy\n",
    "import pandas as pd\n",
    "from nltk.corpus import stopwords\n",
    "from spacy.lang.es import Spanish"
   ]
  },
  {
   "cell_type": "code",
   "execution_count": 4,
   "metadata": {},
   "outputs": [],
   "source": [
    "#Create NLP\n",
    "nlp = Spanish()\n",
    "nlp.max_length = 10000000\n",
    "\n",
    "#Setting NLTK stopwords\n",
    "stopwords = set(stopwords.words('spanish'))\n",
    "\n",
    "#Getting songs from an excel file\n",
    "df = pd.read_excel('listOfSongs.xlsx',header=0,encoding='utf-8')\n",
    "#stop_words_Sounds = ['oh','ah-ah','eh-eh','ey']"
   ]
  },
  {
   "cell_type": "code",
   "execution_count": 5,
   "metadata": {},
   "outputs": [],
   "source": [
    "def preprocess(text):\n",
    "    # Create Doc\n",
    "    doc = nlp(text,disable=['ner','perse'])\n",
    "    # Generate lemmas\n",
    "    lemmas = [token.lemma_ for token in doc]\n",
    "    lemmas_without_sw = [word for word in lemmas if not word in stopwords and if word.isalpha()]\n",
    "    return ' '.join(lemmas_without_sw)"
   ]
  },
  {
   "cell_type": "code",
   "execution_count": 7,
   "metadata": {},
   "outputs": [
    {
     "name": "stdout",
     "output_type": "stream",
     "text": [
      "You know that sometimes I think about us now and then But I never wanna fall again , ah Yo quisiera olvidar Pero contigo na ' Yeah-yeah You're deep in the water , yeah , you're drownin ' us You question my love like it's not enough But I hate that you know , you know , you know You got tied up You regret it now , but it's your mistake What makes you think that my mind will change ? And you hate that you know , you know , you know You know you messed up One day you'll love again One day you'll love for sure One day you'll wake up feelin ' how I've been feelin ' Baby , you'll knock at my door One day you'll love again Hug again till the end One day you'll beg to try One day you'll realize I'm more than your lover I'm more than your lover , I'm your friend Acércate poquito na ' má ' Que quiero quedes conmigo Deja amiga ' allá atrás , ' vamos viaje escondido ' No ' vamo ' pa ' Turks and Caicos Y ahí calmamo ' ganas Suéltate conmigo , mamá Que marcha atrás Una noche No tan fácil , baby Que pa ' Y pa ' Nunca dejes querer Oh , na-na-na Contigo siempre , baby No quiero dejarte vez One day you'll love again One day you'll love for sure One day you'll wake up feelin ' how I've been feelin ' Baby , you'll knock at my door One day you'll love again Hug again till the end One day you'll beg to try One day you'll realize I'm more than your lover I'm more than your lover , I'm your friend Yeah , yeah , yeah Yo sé corazón , quizá fondo Otra baby escribe , nunca respondo La vida da vuelta ' mundo redondo Y voy beso nuevo London O si Marbella Encima arena viendo ' estrella ' Yo sé ' ola ' borra'o huella Pero pichaera ' atropella Sol , playa arena , vamo ' allá Baby , quede ' callá ' Yo sé quiere ' guayar conmigo Otra vez depresión Fumando habitación , eh Pero sé One day you'll love again One day you'll love for sure One day you'll wake up feelin ' how I've been feelin ' Baby , you'll knock at my door One day you'll love again Hug again till the end One day you'll beg to try One day you'll realize I'm more than your lover I'm more than your lover , I'm your friend Baby , eh One day you'll love again One day you'll realize I'm more than your lover I'm more than your lover , I'm your friend J Balvin , man Bad Bunny , baby Tainy Latino Gang La Familia\n",
      "You know that sometimes I think about us now and then But I never wanna fall again, ah Yo no te quisiera olvidar  Pero contigo es todo o na'  Yeah-yeah   You're deep in the water, yeah, you're drownin' us You question my love like it's not enough But I hate that you know, you know, you know You got me tied up You regret it now, but it's your mistake What makes you think that my mind will change? And you hate that you know, you know, you know You know you messed up   One day you'll love me again One day you'll love me for sure One day you'll wake up feelin' how I've been feelin' Baby, you'll knock at my door One day you'll love me again Hug me again till the end One day you'll beg me to try One day you'll realize I'm more than your lover I'm more than your lover, I'm your friend  Acércate un poquito na' má' Que yo quiero que te quedes conmigo Deja a tus amiga' allá atrás, que no' vamos en un viaje escondido' No' vamo' pa' Turks and Caicos Y ahí calmamo' las ganas  Suéltate conmigo, mamá  Que ya no hay marcha atrás Una noche sin ti No es tan fácil, baby Que yo soy pa' ti  Y tú eres pa' mí    Nunca me dejes de querer Oh, na-na-na Contigo por siempre, baby No quiero dejarte esta vez   One day you'll love me again One day you'll love me for sure One day you'll wake up feelin' how I've been feelin' Baby, you'll knock at my door One day you'll love me again Hug me again till the end One day you'll beg me to try One day you'll realize I'm more than your lover I'm more than your lover, I'm your friend  Yeah, yeah, yeah Yo sé que estoy en tu corazón, quizá en el fondo Otra baby me escribe, nunca le respondo  La vida da vuelta' y el mundo es redondo Y yo voy a que te beso de nuevo en London O si no en Marbella  Encima de la arena viendo la' estrella'  Yo sé que ni la' ola' han borra'o mi huella  Pero tu pichaera e' lo que me atropella Sol, playa y en la arena, vamo' allá  Baby, no te quede' callá' Yo sé que tú quiere' guayar conmigo Otra vez me tienes en depresión Fumando en la habitación, eh Pero yo sé que   One day you'll love me again  One day you'll love me for sure One day you'll wake up feelin' how I've been feelin' Baby, you'll knock at my door One day you'll love me again Hug me again till the end One day you'll beg me to try One day you'll realize I'm more than your lover I'm more than your lover, I'm your friend  Baby, eh  One day you'll love me again One day you'll realize I'm more than your lover I'm more than your lover, I'm your friend J Balvin, man Bad Bunny, baby Tainy Latino Gang  La Familia\n"
     ]
    }
   ],
   "source": [
    "for i,song in df.iterrows():\n",
    "    print(preprocess(song['lyric']))\n",
    "    print(song['lyric'])\n",
    "    break"
   ]
  },
  {
   "cell_type": "code",
   "execution_count": null,
   "metadata": {},
   "outputs": [],
   "source": []
  }
 ],
 "metadata": {
  "kernelspec": {
   "display_name": "Python 3",
   "language": "python",
   "name": "python3"
  },
  "language_info": {
   "codemirror_mode": {
    "name": "ipython",
    "version": 3
   },
   "file_extension": ".py",
   "mimetype": "text/x-python",
   "name": "python",
   "nbconvert_exporter": "python",
   "pygments_lexer": "ipython3",
   "version": "3.7.3"
  }
 },
 "nbformat": 4,
 "nbformat_minor": 4
}
